{
 "cells": [
  {
   "cell_type": "code",
   "execution_count": 1,
   "id": "f489c065",
   "metadata": {},
   "outputs": [
    {
     "name": "stdout",
     "output_type": "stream",
     "text": [
      "Hello World!\n"
     ]
    }
   ],
   "source": [
    "print('Hello World!')"
   ]
  },
  {
   "cell_type": "code",
   "execution_count": 2,
   "id": "8d6fa520",
   "metadata": {},
   "outputs": [
    {
     "name": "stdout",
     "output_type": "stream",
     "text": [
      "My name is Htet_Khant_Linn\n"
     ]
    }
   ],
   "source": [
    "import os\n",
    "from dotenv import load_dotenv\n",
    "load_dotenv()\n",
    "\n",
    "my_name = os.getenv('My_Name')\n",
    "print(f'My name is {my_name}')"
   ]
  },
  {
   "cell_type": "code",
   "execution_count": 9,
   "id": "9a1e10a5",
   "metadata": {},
   "outputs": [
    {
     "name": "stdout",
     "output_type": "stream",
     "text": [
      "Blank image created with shape: (500, 500, 3)\n",
      "<class 'numpy.ndarray'>\n",
      "Blank image data type: uint8\n",
      "Blank image color set to light blue.\n"
     ]
    },
    {
     "data": {
      "text/plain": [
       "True"
      ]
     },
     "execution_count": 9,
     "metadata": {},
     "output_type": "execute_result"
    }
   ],
   "source": [
    "import cv2\n",
    "import matplotlib.pyplot as plt\n",
    "import numpy as np\n",
    "\n",
    "# Create a blank image\n",
    "blank_image = np.zeros((500, 500, 3), dtype=np.uint8)\n",
    "\n",
    "print(\"Blank image created with shape:\", blank_image.shape)\n",
    "print(type(blank_image))\n",
    "print(\"Blank image data type:\", blank_image.dtype)\n",
    "\n",
    "blank_image[:, :] = [255, 255, 0]  # Set the image to light blue color | BGR format\n",
    "print(\"Blank image color set to light blue.\")\n",
    "cv2.imwrite('image_folder/blank_image.jpg', blank_image)\n"
   ]
  },
  {
   "cell_type": "code",
   "execution_count": 12,
   "id": "ffd05445",
   "metadata": {},
   "outputs": [
    {
     "name": "stdout",
     "output_type": "stream",
     "text": [
      "Image loaded successfully.\n",
      "Image shape: (500, 500, 3)\n",
      "Image data type: uint8\n",
      "Image converted to RGB format.\n"
     ]
    },
    {
     "data": {
      "image/png": "[encoded data removed]",
      "text/plain": [
       "<Figure size 800x600 with 1 Axes>"
      ]
     },
     "metadata": {},
     "output_type": "display_data"
    },
    {
     "data": {
      "image/png": "[encoded data removed]",
      "text/plain": [
       "<Figure size 800x600 with 1 Axes>"
      ]
     },
     "metadata": {},
     "output_type": "display_data"
    }
   ],
   "source": [
    "# Load the image\n",
    "image_bgr = cv2.imread('image_folder/blank_image.jpg')\n",
    "if image_bgr is None:\n",
    "    print(\"Error: Image not found.\")\n",
    "else:\n",
    "    print(\"Image loaded successfully.\")\n",
    "    print(\"Image shape:\", image_bgr.shape)\n",
    "    print(\"Image data type:\", image_bgr.dtype)\n",
    "    # Convert BGR to RGB\n",
    "    image_rgb = cv2.cvtColor(image_bgr, cv2.COLOR_BGR2RGB)\n",
    "    print(\"Image converted to RGB format.\")\n",
    "    \n",
    "    # Display the image using matplotlib\n",
    "    plt.figure(figsize=(8, 6))\n",
    "    plt.imshow(image_rgb)\n",
    "    plt.title('Original Image (RGB)')\n",
    "    plt.axis('off')\n",
    "    plt.show()\n",
    "    \n",
    "    \n",
    "    # Display the unconverted image using OpenCV\n",
    "    plt.figure(figsize=(8, 6))\n",
    "    plt.imshow(image_bgr)\n",
    "    plt.title('Original Image (BGR)')\n",
    "    plt.axis('off')\n",
    "    plt.show()\n",
    "\n"
   ]
  },
  {
   "cell_type": "code",
   "execution_count": null,
   "id": "26ff803f",
   "metadata": {},
   "outputs": [
    {
     "name": "stdout",
     "output_type": "stream",
     "text": [
      "Image saved in RGB format as 'blank_image_rgb.jpg'.\n"
     ]
    }
   ],
   "source": [
    "cv2.imwrite('image_folder/blank_image_rgb.jpg', image_rgb)\n",
    "print(\"Image saved in RGB format as 'blank_image_rgb.jpg'.\")\n",
    "# This will get yellow color in RGB format instead of light blue"
   ]
  }
 ],
 "metadata": {
  "kernelspec": {
   "display_name": "image_processing_techniques--TbGZ9Lz",
   "language": "python",
   "name": "python3"
  },
  "language_info": {
   "codemirror_mode": {
    "name": "ipython",
    "version": 3
   },
   "file_extension": ".py",
   "mimetype": "text/x-python",
   "name": "python",
   "nbconvert_exporter": "python",
   "pygments_lexer": "ipython3",
   "version": "3.10.18"
  }
 },
 "nbformat": 4,
 "nbformat_minor": 5
}
